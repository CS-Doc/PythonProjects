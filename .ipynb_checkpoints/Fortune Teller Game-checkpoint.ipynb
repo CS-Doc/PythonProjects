{
 "cells": [
  {
   "cell_type": "code",
   "execution_count": null,
   "metadata": {},
   "outputs": [],
   "source": [
    "import random\n",
    "\n",
    "answer = 'y'\n",
    "\n",
    "print('Welcome to the Fortune Teller!')\n",
    "print('You will select a color and a number and I will tell you what the future holds for you!')\n",
    "\n",
    "while answer == 'y':\n",
    "    color = input(\"select a color [yellow, green, blue, red] \")\n",
    "    if color == \"yellow\" or color == \"green\":\n",
    "        number = int(input(\"Select a number [1, 2, 5, 6]\"))\n",
    "        if number == 1:\n",
    "            print (\"Worried about your future career? Don't worry. You'll 100% get what you want, be patient!\")\n",
    "        elif number == 2:\n",
    "            print(\"You will become a millionare at the age of 40!\")\n",
    "        elif number == 5:\n",
    "            print(\"You will have great family with 10 kids!\")\n",
    "        elif number == 6:\n",
    "            print(\"You will become famous and everyone will love you!\")\n",
    "        else:\n",
    "            print(\"Only numbers allowed are: 1, 2, 5 and 6 \")\n",
    "    elif color == \"blue\" or color == \"red\":\n",
    "        number = int(input(\"Select a number [3, 4, 7, 8]\"))\n",
    "        if number == 3:\n",
    "            print (\"You will live a happy life for 100 years at least!\")\n",
    "        elif number == 4:\n",
    "            print(\"You will become a succeful Programmer\")\n",
    "        elif number == 7:\n",
    "            print(\"All your dreams will become true, just be patient!\")\n",
    "        elif number == 8:\n",
    "            print(\"You're lucky, You will have it all one day!\")\n",
    "        else:\n",
    "            print(\"Only numbers allowed are: 3, 4, 7 and 8 \")\n",
    "    answer = input (\"Play again? insert 'y' for YES or 'n' for NO\")\n",
    "    "
   ]
  },
  {
   "cell_type": "code",
   "execution_count": null,
   "metadata": {},
   "outputs": [],
   "source": []
  }
 ],
 "metadata": {
  "kernelspec": {
   "display_name": "Python 3",
   "language": "python",
   "name": "python3"
  },
  "language_info": {
   "codemirror_mode": {
    "name": "ipython",
    "version": 3
   },
   "file_extension": ".py",
   "mimetype": "text/x-python",
   "name": "python",
   "nbconvert_exporter": "python",
   "pygments_lexer": "ipython3",
   "version": "3.6.4"
  }
 },
 "nbformat": 4,
 "nbformat_minor": 2
}
