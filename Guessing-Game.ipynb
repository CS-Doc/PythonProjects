{
 "cells": [
  {
   "cell_type": "code",
   "execution_count": 1,
   "metadata": {},
   "outputs": [],
   "source": [
    "import random"
   ]
  },
  {
   "cell_type": "code",
   "execution_count": 2,
   "metadata": {},
   "outputs": [],
   "source": [
    "true_number = random.randint(1, 49)"
   ]
  },
  {
   "cell_type": "code",
   "execution_count": 3,
   "metadata": {},
   "outputs": [
    {
     "name": "stdout",
     "output_type": "stream",
     "text": [
      "Enter your guess between 1 and 497\n"
     ]
    }
   ],
   "source": [
    "guess_number = int(input(\"Enter your guess between 1 and 49: \"))"
   ]
  },
  {
   "cell_type": "code",
   "execution_count": 4,
   "metadata": {},
   "outputs": [
    {
     "data": {
      "text/plain": [
       "7"
      ]
     },
     "execution_count": 4,
     "metadata": {},
     "output_type": "execute_result"
    }
   ],
   "source": [
    "guess_number"
   ]
  },
  {
   "cell_type": "code",
   "execution_count": 5,
   "metadata": {},
   "outputs": [
    {
     "name": "stdout",
     "output_type": "stream",
     "text": [
      "YOU GUESS IS LOW, TRY AGAIN!\n",
      "Enter your guess between 1 and 4948\n",
      "YOU GUESS IS HIGH, TRY AGAIN!\n",
      "Enter your guess between 1 and 4930\n",
      "YOU GUESS IS HIGH, TRY AGAIN!\n",
      "Enter your guess between 1 and 4923\n",
      "YOU GUESS IS HIGH, TRY AGAIN!\n",
      "Enter your guess between 1 and 4917\n",
      "YOU GUESS IS LOW, TRY AGAIN!\n",
      "Enter your guess between 1 and 4918\n",
      "YOU GUESS IS LOW, TRY AGAIN!\n",
      "Enter your guess between 1 and 4919\n",
      "YOU GUESS IS LOW, TRY AGAIN!\n",
      "Enter your guess between 1 and 4921\n",
      "YOU GUESS IS HIGH, TRY AGAIN!\n",
      "Enter your guess between 1 and 4920\n",
      "YOU ARE RIGHT! GOOD JOB!\n"
     ]
    }
   ],
   "source": [
    "while True:\n",
    "    if guess_number == true_number:\n",
    "        print('YOU ARE RIGHT! GOOD JOB!')\n",
    "        break\n",
    "    elif guess_number < true_number:\n",
    "        print('YOU GUESS IS LOW, TRY AGAIN!')\n",
    "        guess_number = int(input(\"Enter your guess between 1 and 49\"))\n",
    "    elif guess_number > true_number:\n",
    "        print('YOU GUESS IS HIGH, TRY AGAIN!')\n",
    "        guess_number = int(input(\"Enter your guess between 1 and 49\"))"
   ]
  }
 ],
 "metadata": {
  "kernelspec": {
   "display_name": "Python 3",
   "language": "python",
   "name": "python3"
  },
  "language_info": {
   "codemirror_mode": {
    "name": "ipython",
    "version": 3
   },
   "file_extension": ".py",
   "mimetype": "text/x-python",
   "name": "python",
   "nbconvert_exporter": "python",
   "pygments_lexer": "ipython3",
   "version": "3.6.4"
  }
 },
 "nbformat": 4,
 "nbformat_minor": 2
}
